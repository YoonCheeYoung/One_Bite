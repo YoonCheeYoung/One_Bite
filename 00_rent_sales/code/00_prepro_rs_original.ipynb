{
 "cells": [
  {
   "cell_type": "code",
   "execution_count": 1,
   "metadata": {},
   "outputs": [],
   "source": [
    "import pandas as pd\n",
    "import datetime"
   ]
  },
  {
   "attachments": {},
   "cell_type": "markdown",
   "metadata": {},
   "source": [
    "### 원천 데이터 추출 및 병합\n",
    "\n",
    "- 기존에 존재하는 원천데이터를 가공하여 분석에 활용 가능한 형태로 변환하였다. (DB 버전과 데이터 추출, 전처리 부분을 제외하면 동일하다.)"
   ]
  },
  {
   "cell_type": "code",
   "execution_count": 2,
   "metadata": {},
   "outputs": [],
   "source": [
    "file_path = 'C:/Users/LeeJH/OneDrive - 코리아리서치인터내셔널/바탕 화면/onebite/00_rent_sales/input_data/'"
   ]
  },
  {
   "cell_type": "code",
   "execution_count": 3,
   "metadata": {},
   "outputs": [],
   "source": [
    "sales_df1 = pd.read_csv(file_path + '매매_1.csv', low_memory=False)\n",
    "sales_df2 = pd.read_csv(file_path + '매매_2.csv', low_memory=False)\n",
    "sales_df3 = pd.read_csv(file_path + '매매_3.csv', low_memory=False)\n",
    "\n",
    "rent_df1 = pd.read_csv(file_path + '전세_1.csv', low_memory=False)\n",
    "rent_df2 = pd.read_csv(file_path + '전세_2.csv', low_memory=False)\n",
    "rent_df3 = pd.read_csv(file_path + '전세_3.csv', low_memory=False)"
   ]
  },
  {
   "cell_type": "code",
   "execution_count": 4,
   "metadata": {},
   "outputs": [],
   "source": [
    "sales_df = pd.concat([sales_df1, sales_df2, sales_df3], axis = 0)\n",
    "rent_df = pd.concat([rent_df1, rent_df2, rent_df3], axis = 0)"
   ]
  },
  {
   "cell_type": "code",
   "execution_count": 5,
   "metadata": {},
   "outputs": [],
   "source": [
    "sales_df = sales_df[['건축년도', '년', '월', '일', '법정동', '거래금액', '아파트', '전용면적', '지번', '지역코드', '도로명', '도로명일련번호코드', '도로명건물본번호코드', '도로명건물부번호코드']]\n",
    "\n",
    "rent_df = rent_df[['건축년도', '년', '월', '일', '법정동', '보증금액', '아파트', '월세금액', '전용면적', '지번', '지역코드']]"
   ]
  },
  {
   "attachments": {},
   "cell_type": "markdown",
   "metadata": {},
   "source": [
    "#### 전처리\n",
    "\n",
    "- '보증금액', '월세금액', '거래금액'변수 가격 콤마 제거\n",
    "- '건축년도'가 없는 데이터 제거 ['건축년도'는 추후에 필터링(혹은 추천 시스템의 파라미터)에 사용되어 개인화 추천에 활용될 변수이므로 결측치있는 row 데이터를 제거하였다.]\n",
    "- '건축년도'와 금액관련 변수들을 숫자 형태로 형변환을 진행하였다. "
   ]
  },
  {
   "cell_type": "code",
   "execution_count": 6,
   "metadata": {},
   "outputs": [],
   "source": [
    "# 가격 콤마 제거\n",
    "rent_df['보증금액'] = rent_df['보증금액'].apply(lambda x: int(''.join(x.split(','))))\n",
    "rent_df['월세금액'] = rent_df['월세금액'].apply(lambda x: int(''.join(x.split(','))))\n",
    "\n",
    "sales_df['거래금액'] = sales_df['거래금액'].apply(lambda x: int(''.join(x.split(','))))\n",
    "\n",
    "# 건축년도 노이즈 제거\n",
    "rent_df = rent_df.dropna(subset = ['건축년도'], axis = 0)\n",
    "\n",
    "sales_df = sales_df.dropna(subset = ['건축년도'], axis = 0)\n",
    "\n",
    "# 문자열 -> 숫자형 데이터 형변환\n",
    "rent_int_list = ['건축년도', '보증금액', '월세금액']\n",
    "for col in rent_int_list :\n",
    "    rent_df[col] = rent_df[col].astype('int64')\n",
    "\n",
    "sales_int_list = ['건축년도', '거래금액']\n",
    "for col in sales_int_list :\n",
    "    sales_df[col] = sales_df[col].astype('int64')"
   ]
  },
  {
   "attachments": {},
   "cell_type": "markdown",
   "metadata": {},
   "source": [
    "### Feature Engineering\n",
    "\n",
    "- 데이터 통합 : 전세/매매 데이터를 '아파트', '전용면적'으로 묶어서 row 데이터를 거래별이 아닌 건축물별로 변환\n",
    "- 파생변수 추가_1 : 월세/전세/매매에 따른 '평균금액', '최근 3년간 평균금액' 변수 추가\n",
    "\n",
    "- 파생변수 추가_2 : '연식', '전세가율', '환산보증금' 변수 추가"
   ]
  },
  {
   "cell_type": "code",
   "execution_count": 7,
   "metadata": {},
   "outputs": [],
   "source": [
    "# 건축물을 기준으로 데이터 통합\n",
    "rent_apt = rent_df.groupby(['아파트', '전용면적']).nth(0).reset_index()\n",
    "sales_apt = sales_df.groupby(['아파트','전용면적']).nth(0).reset_index()\n",
    "\n",
    "# 작업에 사용할 df\n",
    "temp_rent_m_df = rent_df[rent_df['월세금액'] != 0].copy() # 월세\n",
    "temp_rent_c_df = rent_df[rent_df['월세금액'] == 0].copy() # 전세\n",
    "temp_sales_df = sales_df.copy()"
   ]
  },
  {
   "attachments": {},
   "cell_type": "markdown",
   "metadata": {},
   "source": [
    "#### 파생변수 추가_1"
   ]
  },
  {
   "cell_type": "code",
   "execution_count": 12,
   "metadata": {},
   "outputs": [],
   "source": [
    "def get_3yr_price(df, today) :\n",
    "    within_3yr = []\n",
    "\n",
    "    for yy, mm, dd in zip(df['년'], df['월'], df['일']) :\n",
    "        if (today - datetime.date(yy, mm, dd)).days < 365*3 :\n",
    "            within_3yr.append((today - datetime.date(yy, mm, dd)).days)\n",
    "        else :\n",
    "            within_3yr.append(False)\n",
    "    \n",
    "    df['within_3yr'] = within_3yr\n",
    "    return df"
   ]
  },
  {
   "cell_type": "code",
   "execution_count": 13,
   "metadata": {},
   "outputs": [],
   "source": [
    "# 평균금액\n",
    "rent_c_guarantee_price = temp_rent_c_df.groupby(['아파트', '전용면적'])['보증금액'].mean().round(3).reset_index(name='평균전세보증금액')\n",
    "rent_m_guarantee_price = temp_rent_m_df.groupby(['아파트', '전용면적'])['보증금액'].mean().round(3).reset_index(name='평균월세보증금액')\n",
    "rent_monthly_price = temp_rent_m_df.groupby(['아파트', '전용면적'])['월세금액'].mean().round(3).reset_index(name='평균월세금액')\n",
    "\n",
    "sales_trans_price = temp_sales_df.groupby(['아파트', '전용면적'])['거래금액'].mean().round(3).reset_index(name='평균거래금액')\n",
    "\n",
    "# 최근 3년 평균금액\n",
    "today = datetime.date.today()\n",
    "\n",
    "temp_rent_c_df = get_3yr_price(temp_rent_c_df, today)\n",
    "temp_rent_m_df = get_3yr_price(temp_rent_m_df, today)\n",
    "temp_sales_df = get_3yr_price(temp_sales_df, today)\n",
    "\n",
    "temp_rent_c_df = temp_rent_c_df[temp_rent_c_df['within_3yr'] != False].reset_index()\n",
    "temp_rent_m_df = temp_rent_m_df[temp_rent_m_df['within_3yr'] != False].reset_index()\n",
    "temp_sales_df = temp_sales_df[temp_sales_df['within_3yr'] != False].reset_index()\n",
    "\n",
    "rent_c_gp_3yr = temp_rent_c_df.groupby(['아파트', '전용면적'])['보증금액'].mean().round(3).reset_index(name='최근3년_전세보증금액')\n",
    "rent_m_gp_3yr = temp_rent_m_df.groupby(['아파트', '전용면적'])['보증금액'].mean().round(3).reset_index(name='최근3년_월세보증금액')\n",
    "rent_m_3yr = temp_rent_m_df.groupby(['아파트', '전용면적'])['월세금액'].mean().round(3).reset_index(name='최근3년_월세금액')\n",
    "\n",
    "sales_trans_3yr = temp_sales_df.groupby(['아파트', '전용면적'])['거래금액'].mean().round(3).reset_index(name='최근3년_거래금액')"
   ]
  },
  {
   "cell_type": "code",
   "execution_count": 14,
   "metadata": {},
   "outputs": [],
   "source": [
    "# '평균금액', '최근 3년 평균금액' 파생변수 추가\n",
    "rent_apt = rent_apt.merge(rent_c_guarantee_price, how='left')\n",
    "rent_apt = rent_apt.merge(rent_m_guarantee_price, how='left')\n",
    "rent_apt = rent_apt.merge(rent_monthly_price, how='left')\n",
    "\n",
    "rent_apt = rent_apt.merge(rent_c_gp_3yr, how='left')\n",
    "rent_apt = rent_apt.merge(rent_m_gp_3yr, how='left')\n",
    "rent_apt = rent_apt.merge(rent_m_3yr, how='left')\n",
    "\n",
    "sales_apt = sales_apt.merge(sales_trans_price, how='left')\n",
    "sales_apt = sales_apt.merge(sales_trans_3yr, how='left')"
   ]
  },
  {
   "attachments": {},
   "cell_type": "markdown",
   "metadata": {},
   "source": [
    "#### 불필요한 변수 제거"
   ]
  },
  {
   "cell_type": "code",
   "execution_count": 15,
   "metadata": {},
   "outputs": [],
   "source": [
    "sales_apt = sales_apt.drop(['거래금액'], axis = 1)\n",
    "\n",
    "rent_apt = rent_apt.drop(['보증금액', '월세금액'], axis = 1)"
   ]
  },
  {
   "attachments": {},
   "cell_type": "markdown",
   "metadata": {},
   "source": [
    "### 전세/매매 df 통합"
   ]
  },
  {
   "cell_type": "code",
   "execution_count": 16,
   "metadata": {},
   "outputs": [],
   "source": [
    "fill_col_list = ['건축년도', '년', '월', '일', '법정동', '지번', '지역코드']\n",
    "\n",
    "def fill_nan (df) :\n",
    "    for col in fill_col_list :\n",
    "        df[col + '_y'] = df[col + '_y'].fillna(df[col + '_x'])\n",
    "        df[col + '_x'] = df[col + '_x'].fillna(df[col + '_y'])\n",
    "\n",
    "        df = df.drop([col + '_y'], axis = 1)\n",
    "        df = df.rename(columns = {col + '_x' : col})\n",
    "    return df"
   ]
  },
  {
   "cell_type": "code",
   "execution_count": 17,
   "metadata": {},
   "outputs": [],
   "source": [
    "apt = sales_apt.merge(rent_apt, on=['아파트','전용면적'],how='outer')\n",
    "apt = fill_nan(apt)"
   ]
  },
  {
   "attachments": {},
   "cell_type": "markdown",
   "metadata": {},
   "source": [
    "#### 파생변수 추가_2"
   ]
  },
  {
   "cell_type": "code",
   "execution_count": 27,
   "metadata": {},
   "outputs": [],
   "source": [
    "# 연식\n",
    "apt['연식'] = sales_apt.apply(lambda row: today.year - row['건축년도'], axis=1)\n",
    "\n",
    "# 전세가율\n",
    "apt['전세가율'] = (apt['평균전세보증금액'] / apt['평균거래금액']) * 100\n",
    "\n",
    "# 환산보증금\n",
    "apt['환산보증금'] = apt['평균월세보증금액'] + apt['평균월세금액']"
   ]
  },
  {
   "attachments": {},
   "cell_type": "markdown",
   "metadata": {},
   "source": [
    "### 저장"
   ]
  },
  {
   "cell_type": "code",
   "execution_count": 29,
   "metadata": {},
   "outputs": [],
   "source": [
    "output_path = 'C:/Users/LeeJH/OneDrive - 코리아리서치인터내셔널/바탕 화면/onebite/00_rent_sales/output_data/'\n",
    "\n",
    "apt.to_csv(output_path + 'transaction_original.csv')"
   ]
  }
 ],
 "metadata": {
  "kernelspec": {
   "display_name": "Python 3",
   "language": "python",
   "name": "python3"
  },
  "language_info": {
   "codemirror_mode": {
    "name": "ipython",
    "version": 3
   },
   "file_extension": ".py",
   "mimetype": "text/x-python",
   "name": "python",
   "nbconvert_exporter": "python",
   "pygments_lexer": "ipython3",
   "version": "3.11.1"
  },
  "orig_nbformat": 4,
  "vscode": {
   "interpreter": {
    "hash": "270ced95276eba6e5ba2fa538b4f48c03a79a071bb2f1a819b7c37fb8f717c35"
   }
  }
 },
 "nbformat": 4,
 "nbformat_minor": 2
}
