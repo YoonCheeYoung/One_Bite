{
 "cells": [
  {
   "cell_type": "code",
   "execution_count": 49,
   "metadata": {},
   "outputs": [],
   "source": [
    "import os\n",
    "import pandas as pd\n",
    "import datetime\n",
    "import warnings\n",
    "\n",
    "warnings.filterwarnings(action='ignore')"
   ]
  },
  {
   "attachments": {},
   "cell_type": "markdown",
   "metadata": {},
   "source": [
    "### 함수 설명\n",
    "\n",
    "- prepro_1\n",
    "    1. 원천 데이터에 컬럼명이 없는 이슈로 인해 API에서 컬럼명을 추출하여 추가\n",
    "    2. 결측치 제거\n",
    "    3. 필요한 변수만 추출\n",
    "    4. 변수 데이터 형변환\n",
    "<br>\n",
    "<br>\n",
    "- get_etcPurpsCd\n",
    "    1. 공용면적 중에서 공급면적에 포함해야되는 시설들을 선별\n",
    "    2. 오피스텔과 오피스텔이 아닌 주거형태 데이터를 분리 (오피스텔은 모든 면적을 포함한 계약면적이 필요하지만 이외의 건축물들은 전용면적과 주거공용면적만 공급면적이 필요하기 때문)\n",
    "<br>\n",
    "<br>\n",
    "- get_exclusive_Area\n",
    "    1. 전용면적 변수 추가\n",
    "<br>\n",
    "<br>\n",
    "- get_supply_Area\n",
    "    1. 오피스텔과 이외의 건축물별 공용면적(계약면적) 변수를 추가"
   ]
  },
  {
   "cell_type": "code",
   "execution_count": 50,
   "metadata": {},
   "outputs": [],
   "source": [
    "def prepro_1(df) :\n",
    "\n",
    "    # 데이터 컬럼명 만들기\n",
    "    df = df.T.reset_index(drop = False).T\n",
    "\n",
    "    df.columns = ['area', 'bjdongCd', 'bldNm', 'block', 'bun', 'crtnDay', 'dongNm', 'etcPurps', 'etcStrct', 'exposPubuseGbCd', 'exposPubuseGbCdNm', 'flrGbCd', 'flrGbCdNm', \\\n",
    "                'flrNo', 'flrNoNm', 'hoNm', 'ji', 'lot', 'mainAtchGbCd', 'mainAtchGbCdNm', 'mainPurpsCd', 'mainPurpsCdNm', 'mgmBldrgstPk', 'naBjdongCd', 'naMainBun', 'naRoadCd', \\\n",
    "                'naSubBun', 'naUgrndCd', 'newPlatPlc', 'platGbCd', 'platPlc', 'regstrGbCd', 'regstrGbCdNm', 'regstrKindCd', 'regstrKindCdNm', 'rnum', 'sigunguCd', 'splotNm', 'strctCd', 'strctCdNm']\n",
    "\n",
    "    df = df.reset_index(drop = True)\n",
    "    \n",
    "    # 결측치 제거\n",
    "    df = df.dropna(axis = 0)\n",
    "\n",
    "    # 불필요한 변수 제거\n",
    "    df = df[['sigunguCd', 'bjdongCd', 'mgmBldrgstPk', 'platPlc', 'newPlatPlc', 'bldNm', 'mainAtchGbCd', 'exposPubuseGbCd', 'exposPubuseGbCdNm','mainAtchGbCdNm', 'mainPurpsCd', 'mainPurpsCdNm', 'area', 'etcPurps']]\n",
    "    \n",
    "    # 변수에 맞게 데이터 형변환 필요\n",
    "    int_type_list = ['sigunguCd', 'bjdongCd', 'mainAtchGbCd', 'exposPubuseGbCd', 'area']\n",
    "\n",
    "    for col in int_type_list :\n",
    "        df[col] = df[col].apply(pd.to_numeric, errors = 'coerce').dropna().astype(float)\n",
    "\n",
    "    return df"
   ]
  },
  {
   "cell_type": "code",
   "execution_count": 51,
   "metadata": {},
   "outputs": [],
   "source": [
    "def get_etcPurpsCd (df) :\n",
    "\n",
    "    # 주거공용면적 리스트 생성\n",
    "    common_area_list = ['계단', '계단실', '로비', '벽체', '내벽', '외벽', '복도', '승강기', '엘리베이터', 'EL', 'El', '홀', '지하실', '지하층', '코아', '코어', 'Core', '공용', '공유', '공용면적', '공유면적', \\\n",
    "                        '주거공용', '옥탑', '홀', '계당', 'E.V', '게단실', '벽채면적']\n",
    "    \n",
    "    # 공유면적이 맞으면 1, 맞지 않다면 0으로 표기할 컬럼 생성 (초기값은 0으로 컬럼 생성)\n",
    "    df['etcPurpsCd'] = 0\n",
    "\n",
    "    # for문으로 common_area_list에 포함된 키워드가 df의 \"etcPurps\"컬럼에 존재한다면 1로 변경\n",
    "    for index in range(len(df)) :\n",
    "        for common_name in common_area_list :\n",
    "            if common_name in df.iloc[index, 13] :\n",
    "                df.loc[index, 'etcPurpsCd'] = 1\n",
    "\n",
    "    # 오피스텔과 오피스텔이 아닌 데이터 분리\n",
    "    officetel_df = df[df['mainPurpsCdNm'] == '오피스텔']\n",
    "    apartment_df = df[df['mainPurpsCdNm'] != '오피스텔']\n",
    "    return officetel_df, apartment_df"
   ]
  },
  {
   "cell_type": "code",
   "execution_count": 52,
   "metadata": {},
   "outputs": [],
   "source": [
    "def get_exclusive_Area (df) :\n",
    "\n",
    "    # df의 전용면적을 계산하기 위해 임시 데이터프레임을 만들어 계산한다.\n",
    "    temp_df = df[df['exposPubuseGbCd'] == 1]\n",
    "\n",
    "    # 전용공간은 Pk별로 1개가 존재하는 것이 통상적이고, 데이터도 1대1로 대응되나 예외처리를 위해 Pk로 묶어서 전용면적을 산출한다.\n",
    "    grouped_temp_df = temp_df.groupby(['mgmBldrgstPk'])[['area']].sum()\n",
    "    grouped_temp_df.columns = ['exclusiveArea']\n",
    "\n",
    "    df = df.drop_duplicates(['mgmBldrgstPk'])\n",
    "    df = pd.merge(df, grouped_temp_df, how = 'left', on = 'mgmBldrgstPk')\n",
    "\n",
    "    return df"
   ]
  },
  {
   "cell_type": "code",
   "execution_count": 53,
   "metadata": {},
   "outputs": [],
   "source": [
    "def get_supply_Area (officetel_df, offi_df, apartment_df, apt_df) :\n",
    "\n",
    "    # officetel 공용면적 계산\n",
    "    grouped_temp_df = officetel_df.groupby('mgmBldrgstPk')[['area']].sum()\n",
    "    grouped_temp_df.columns = ['supplyArea']\n",
    "\n",
    "    offi_df = pd.merge(offi_df, grouped_temp_df, how = 'left', on = 'mgmBldrgstPk')\n",
    "\n",
    "    # apartment 공용면적 계산\n",
    "\n",
    "    # 아파트의 경우, 매물별로 구분하기 위한 Pk뿐만 아니라 공급면적 구분 및 주거공용 구분하기 위한 변수를 함께 그룹화한다.\n",
    "    grouped_temp_df = apartment_df.groupby(['mgmBldrgstPk', 'exposPubuseGbCd', 'etcPurpsCd']).sum()\n",
    "    grouped_temp_df = grouped_temp_df.reset_index()\n",
    "\n",
    "    # exposPubuseGbCd가 2(공급면적)이고 etcPurpsCd가 0인(주거공용면적이 아닌) row 데이터 제거\n",
    "    remove_list = grouped_temp_df[(grouped_temp_df['exposPubuseGbCd'] == 2) & (grouped_temp_df['etcPurpsCd'] == 0)].index\n",
    "    grouped_temp_df = grouped_temp_df.drop(remove_list, axis = 0)\n",
    "    grouped_temp_df = grouped_temp_df.reset_index(drop = True)\n",
    "\n",
    "    # 공용면적에 포함하지 않는 데이터를 제거하였으므로 Pk로 그룹화하여 area 합계를 구하면 아파트의 공급면적이 된다.\n",
    "    temp_grouped_apt_df = grouped_temp_df.groupby('mgmBldrgstPk')[['area']].sum()\n",
    "    temp_grouped_apt_df.columns = ['supplyArea']\n",
    "\n",
    "    apt_df = pd.merge(apt_df, temp_grouped_apt_df, how = 'left', on = 'mgmBldrgstPk')\n",
    "    \n",
    "    area_df = pd.concat([apt_df, offi_df], axis = 0)\n",
    "    return area_df"
   ]
  },
  {
   "cell_type": "code",
   "execution_count": 54,
   "metadata": {},
   "outputs": [],
   "source": [
    "def prepro_2 (area_df) :\n",
    "    \n",
    "    # 공용면적만 존재하는 건축물 제거\n",
    "    remove_list = area_df[area_df['exposPubuseGbCd'] == 2].index\n",
    "    area_df = area_df.drop(remove_list, axis = 0)\n",
    "    area_df = area_df.reset_index(drop = True)\n",
    "\n",
    "    # 불필요한 변수 제거\n",
    "    area_df = area_df[['sigunguCd', 'bjdongCd', 'mgmBldrgstPk', 'platPlc', 'newPlatPlc', 'bldNm', 'mainPurpsCdNm', 'etcPurps', 'exclusiveArea', 'supplyArea']]\n",
    "\n",
    "    mainPurps_list = ['공동주택', '다세대주택', '다가구주택', '단독주택', '아파트', '연립주택', '오피스텔']\n",
    "\n",
    "    # for문으로 mainPurps_list 포함된 키워드가 df의 \"mainPurpsCdNm\"컬럼에 존재한다면 해당 index 저장\n",
    "    is_index = []\n",
    "\n",
    "    for index in range(len(area_df)) :\n",
    "        for mainPurps_name in mainPurps_list :\n",
    "            if mainPurps_name in [area_df.iloc[index, 6]] :\n",
    "                is_index.append(index)\n",
    "    \n",
    "    # mainPurps_list에 포함되지 않는 index 제거\n",
    "    exclude_index = list(set([i for i in range(len(area_df))]) - set(is_index))\n",
    "    area_df = area_df.drop(exclude_index, axis = 0)\n",
    "    return area_df"
   ]
  },
  {
   "attachments": {},
   "cell_type": "markdown",
   "metadata": {},
   "source": [
    "### 건축물 대장 전처리 프로세스\n",
    "\n",
    "1. 지역별 파일 주소 추출\n",
    "2. 전처리\n",
    "3. 전용면적, 공급면적(계약면적) 변수 추가\n",
    "4. 지역별 통합 df에 적재\n",
    "5. 저장"
   ]
  },
  {
   "cell_type": "code",
   "execution_count": 55,
   "metadata": {},
   "outputs": [],
   "source": [
    "file_path = 'C:/Users/LeeJH/OneDrive - 코리아리서치인터내셔널/바탕 화면/onebite_supply/data/서울특별시_1/'"
   ]
  },
  {
   "cell_type": "code",
   "execution_count": 56,
   "metadata": {},
   "outputs": [
    {
     "data": {
      "text/plain": [
       "['C:/Users/LeeJH/OneDrive - 코리아리서치인터내셔널/바탕 화면/onebite_supply/data/서울특별시_1/서울특별시 강남구(개포-신사).csv',\n",
       " 'C:/Users/LeeJH/OneDrive - 코리아리서치인터내셔널/바탕 화면/onebite_supply/data/서울특별시_1/서울특별시 강남구(압구정-청담).csv',\n",
       " 'C:/Users/LeeJH/OneDrive - 코리아리서치인터내셔널/바탕 화면/onebite_supply/data/서울특별시_1/서울특별시 강동구.csv',\n",
       " 'C:/Users/LeeJH/OneDrive - 코리아리서치인터내셔널/바탕 화면/onebite_supply/data/서울특별시_1/서울특별시 강북구.csv',\n",
       " 'C:/Users/LeeJH/OneDrive - 코리아리서치인터내셔널/바탕 화면/onebite_supply/data/서울특별시_1/서울특별시 강서구(가양-마곡).csv',\n",
       " 'C:/Users/LeeJH/OneDrive - 코리아리서치인터내셔널/바탕 화면/onebite_supply/data/서울특별시_1/서울특별시 강서구(방화-화곡).csv',\n",
       " 'C:/Users/LeeJH/OneDrive - 코리아리서치인터내셔널/바탕 화면/onebite_supply/data/서울특별시_1/서울특별시 관악구.csv',\n",
       " 'C:/Users/LeeJH/OneDrive - 코리아리서치인터내셔널/바탕 화면/onebite_supply/data/서울특별시_1/서울특별시 광진구.csv',\n",
       " 'C:/Users/LeeJH/OneDrive - 코리아리서치인터내셔널/바탕 화면/onebite_supply/data/서울특별시_1/서울특별시 구로구.csv',\n",
       " 'C:/Users/LeeJH/OneDrive - 코리아리서치인터내셔널/바탕 화면/onebite_supply/data/서울특별시_1/서울특별시 금천구.csv',\n",
       " 'C:/Users/LeeJH/OneDrive - 코리아리서치인터내셔널/바탕 화면/onebite_supply/data/서울특별시_1/서울특별시 노원구.csv',\n",
       " 'C:/Users/LeeJH/OneDrive - 코리아리서치인터내셔널/바탕 화면/onebite_supply/data/서울특별시_1/서울특별시 도봉구.csv',\n",
       " 'C:/Users/LeeJH/OneDrive - 코리아리서치인터내셔널/바탕 화면/onebite_supply/data/서울특별시_1/서울특별시 동대문구.csv',\n",
       " 'C:/Users/LeeJH/OneDrive - 코리아리서치인터내셔널/바탕 화면/onebite_supply/data/서울특별시_1/서울특별시 동작구.csv']"
      ]
     },
     "execution_count": 56,
     "metadata": {},
     "output_type": "execute_result"
    }
   ],
   "source": [
    "paths_list = [\n",
    "    os.path.join(file_path,f) for f in os.listdir(file_path)\n",
    "]\n",
    "paths_list"
   ]
  },
  {
   "cell_type": "code",
   "execution_count": 57,
   "metadata": {},
   "outputs": [],
   "source": [
    "start_time = datetime.datetime.now()\n",
    "total_df = pd.DataFrame(columns = ['sigunguCd', 'bjdongCd', 'mgmBldrgstPk', 'platPlc', 'newPlatPlc', 'bldNm', 'mainPurpsCdNm', 'etcPurps', 'exclusiveArea', 'supplyArea'])\n",
    "total_data_cnt = 0"
   ]
  },
  {
   "cell_type": "code",
   "execution_count": 58,
   "metadata": {},
   "outputs": [
    {
     "name": "stdout",
     "output_type": "stream",
     "text": [
      "C:/Users/LeeJH/OneDrive - 코리아리서치인터내셔널/바탕 화면/onebite_supply/data/서울특별시_1/서울특별시 강남구(개포-신사).csv\n",
      "C:/Users/LeeJH/OneDrive - 코리아리서치인터내셔널/바탕 화면/onebite_supply/data/서울특별시_1/서울특별시 강남구(압구정-청담).csv\n",
      "C:/Users/LeeJH/OneDrive - 코리아리서치인터내셔널/바탕 화면/onebite_supply/data/서울특별시_1/서울특별시 강동구.csv\n",
      "C:/Users/LeeJH/OneDrive - 코리아리서치인터내셔널/바탕 화면/onebite_supply/data/서울특별시_1/서울특별시 강북구.csv\n",
      "C:/Users/LeeJH/OneDrive - 코리아리서치인터내셔널/바탕 화면/onebite_supply/data/서울특별시_1/서울특별시 강서구(가양-마곡).csv\n",
      "C:/Users/LeeJH/OneDrive - 코리아리서치인터내셔널/바탕 화면/onebite_supply/data/서울특별시_1/서울특별시 강서구(방화-화곡).csv\n",
      "C:/Users/LeeJH/OneDrive - 코리아리서치인터내셔널/바탕 화면/onebite_supply/data/서울특별시_1/서울특별시 관악구.csv\n",
      "C:/Users/LeeJH/OneDrive - 코리아리서치인터내셔널/바탕 화면/onebite_supply/data/서울특별시_1/서울특별시 광진구.csv\n",
      "C:/Users/LeeJH/OneDrive - 코리아리서치인터내셔널/바탕 화면/onebite_supply/data/서울특별시_1/서울특별시 구로구.csv\n",
      "C:/Users/LeeJH/OneDrive - 코리아리서치인터내셔널/바탕 화면/onebite_supply/data/서울특별시_1/서울특별시 금천구.csv\n",
      "C:/Users/LeeJH/OneDrive - 코리아리서치인터내셔널/바탕 화면/onebite_supply/data/서울특별시_1/서울특별시 노원구.csv\n",
      "C:/Users/LeeJH/OneDrive - 코리아리서치인터내셔널/바탕 화면/onebite_supply/data/서울특별시_1/서울특별시 도봉구.csv\n",
      "C:/Users/LeeJH/OneDrive - 코리아리서치인터내셔널/바탕 화면/onebite_supply/data/서울특별시_1/서울특별시 동대문구.csv\n",
      "C:/Users/LeeJH/OneDrive - 코리아리서치인터내셔널/바탕 화면/onebite_supply/data/서울특별시_1/서울특별시 동작구.csv\n"
     ]
    }
   ],
   "source": [
    "for i in range(len(paths_list)) :\n",
    "    print(paths_list[i])\n",
    "    df = pd.read_csv(paths_list[i], encoding = 'cp949', low_memory = False)\n",
    "\n",
    "    # 변수 추가를 위한 전처리\n",
    "    df = prepro_1(df)\n",
    "    total_data_cnt += len(df)\n",
    "\n",
    "    # 주거공용시설 구분\n",
    "    officetel_df, apartment_df = get_etcPurpsCd(df)\n",
    "\n",
    "    # 전용면적 변수 추가\n",
    "    offi_df = get_exclusive_Area(officetel_df)\n",
    "    apt_df = get_exclusive_Area(apartment_df)\n",
    "    \n",
    "    # 공급면적 변수 추가\n",
    "    area_df = get_supply_Area (officetel_df, offi_df, apartment_df, apt_df)\n",
    "\n",
    "    # 원하는 데이터만 추출하기 위한 전처리\n",
    "    area_df = prepro_2 (area_df)\n",
    "\n",
    "    # 전처리가 끝난 데이터들을 지역별 병합\n",
    "    total_df = pd.concat([total_df, area_df], axis = 0)\n",
    "\n",
    "# 전용 & 공급면적 round(2) 진행 \n",
    "total_df['exclusiveArea'] = total_df['exclusiveArea'].apply(lambda x : round(x,2))\n",
    "total_df['supplyArea'] = total_df['supplyArea'].apply(lambda x : round(x,2))\n",
    "\n",
    "# pk를 제외한 변수들에 대해서 중복으로 존재하는 데이터 제거\n",
    "total_df = total_df.drop_duplicates(['sigunguCd', 'bjdongCd', 'platPlc', 'newPlatPlc', 'bldNm', 'mainPurpsCdNm', 'etcPurps', 'exclusiveArea', 'supplyArea'])\n",
    "\n",
    "total_df = total_df.reset_index(drop = True)\n",
    "    "
   ]
  },
  {
   "cell_type": "code",
   "execution_count": 59,
   "metadata": {},
   "outputs": [],
   "source": [
    "end_time = datetime.datetime.now()"
   ]
  },
  {
   "cell_type": "code",
   "execution_count": 60,
   "metadata": {},
   "outputs": [],
   "source": [
    "total_df.to_csv('서울특별시_1' + '_add_area.csv')"
   ]
  }
 ],
 "metadata": {
  "kernelspec": {
   "display_name": "Python 3",
   "language": "python",
   "name": "python3"
  },
  "language_info": {
   "codemirror_mode": {
    "name": "ipython",
    "version": 3
   },
   "file_extension": ".py",
   "mimetype": "text/x-python",
   "name": "python",
   "nbconvert_exporter": "python",
   "pygments_lexer": "ipython3",
   "version": "3.11.1"
  },
  "orig_nbformat": 4
 },
 "nbformat": 4,
 "nbformat_minor": 2
}
