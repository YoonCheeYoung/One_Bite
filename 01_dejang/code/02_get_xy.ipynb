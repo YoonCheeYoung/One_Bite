{
 "cells": [
  {
   "cell_type": "code",
   "execution_count": 4,
   "metadata": {},
   "outputs": [],
   "source": [
    "import pandas as pd\n",
    "import json\n",
    "import requests\n",
    "import warnings\n",
    "\n",
    "warnings.simplefilter(action = 'ignore', category = FutureWarning)"
   ]
  },
  {
   "cell_type": "code",
   "execution_count": 5,
   "metadata": {},
   "outputs": [],
   "source": [
    "def addr_to_lat_lon(addr, api_key):\n",
    "    url = 'https://dapi.kakao.com/v2/local/search/address.json?query={address}'.format(address=addr)\n",
    "    headers = {\"Authorization\": \"KakaoAK \" + api_key}\n",
    "    result = json.loads(str(requests.get(url, headers=headers).text))\n",
    "    match_first = pd.DataFrame(result['documents'][0]['address'], index = [0])[['address_name','x','y']]\n",
    "    return match_first"
   ]
  },
  {
   "cell_type": "code",
   "execution_count": null,
   "metadata": {},
   "outputs": [],
   "source": [
    "dejang = pd.read_csv('건축물대장_전처리.csv', encoding = 'cp949')\n",
    "dejang['newPlatPlc'] = dejang['newPlatPlc'].str.lstrip()\n",
    "dejang = dejang.sort_values(by = 'newPlatPlc')\n",
    "dejang= dejang.drop(['Unnamed: 0'], axis = 1).reset_index()\n",
    "\n",
    "api_key = 'bc889895d6ca2c417542ab48cffaef0a'\n",
    "\n",
    "address_series_whole = dejang['platPlc'].drop_duplicates()\n",
    "tmp_merged = pd.DataFrame()"
   ]
  },
  {
   "cell_type": "code",
   "execution_count": null,
   "metadata": {},
   "outputs": [],
   "source": [
    "for f_num in range(*[0,len(address_series_whole)//10000]):\n",
    "    n = f_num*10000\n",
    "    address_series = address_series_whole[n:n+10000]\n",
    "    for addr in address_series:\n",
    "        try:\n",
    "            # 'platPlc'(구주소)를 input -> kakao api에서 'address_name', 'x', 'y'를 얻는다.\n",
    "            long_lat = addr_to_lat_lon(addr, api_key)\n",
    "        except:\n",
    "            # 지정한 json 위치 내에 'address_name', 'x', 'y'를 찾을 수 없다면 0으로 추가 (주소를 찾지 못하는 경우는 4311건 / 전체 데이터 수에 비해 매우 적음 / drop할 것임)\n",
    "            long_lat = pd.DataFrame({'address_name':[0], 'x':[0],'y':[0]})\n",
    "        raw_part = dejang[dejang['platPlc'] == addr]\n",
    "        raw_part['address_name'] = long_lat.iloc[0,0]\n",
    "        raw_part['x'] = long_lat.iloc[0,1]\n",
    "        raw_part['y'] = long_lat.iloc[0,2]\n",
    "        # 구주소, kakao주소명, 위도, 경도로 구성된 df\n",
    "        tmp_merged = pd.concat([tmp_merged,raw_part])\n",
    "    tmp_merged.to_csv(f'data/long_lat_data_{f_num}.csv')"
   ]
  }
 ],
 "metadata": {
  "kernelspec": {
   "display_name": "Python 3",
   "language": "python",
   "name": "python3"
  },
  "language_info": {
   "codemirror_mode": {
    "name": "ipython",
    "version": 3
   },
   "file_extension": ".py",
   "mimetype": "text/x-python",
   "name": "python",
   "nbconvert_exporter": "python",
   "pygments_lexer": "ipython3",
   "version": "3.11.1"
  },
  "orig_nbformat": 4
 },
 "nbformat": 4,
 "nbformat_minor": 2
}
