{
 "cells": [
  {
   "cell_type": "code",
   "execution_count": 2,
   "metadata": {},
   "outputs": [],
   "source": [
    "import os\n",
    "import pandas as pd"
   ]
  },
  {
   "attachments": {},
   "cell_type": "markdown",
   "metadata": {},
   "source": [
    "### 지역별 건축물 대장 데이터 병합"
   ]
  },
  {
   "cell_type": "code",
   "execution_count": 3,
   "metadata": {},
   "outputs": [],
   "source": [
    "file_path = 'C:/Users/LeeJH/OneDrive - 코리아리서치인터내셔널/바탕 화면/onebite_supply/output_data/'"
   ]
  },
  {
   "cell_type": "code",
   "execution_count": 4,
   "metadata": {},
   "outputs": [
    {
     "data": {
      "text/plain": [
       "['C:/Users/LeeJH/OneDrive - 코리아리서치인터내셔널/바탕 화면/onebite_supply/output_data/강원도_add_area.csv',\n",
       " 'C:/Users/LeeJH/OneDrive - 코리아리서치인터내셔널/바탕 화면/onebite_supply/output_data/경기도_add_area.csv',\n",
       " 'C:/Users/LeeJH/OneDrive - 코리아리서치인터내셔널/바탕 화면/onebite_supply/output_data/경상남도_add_area.csv',\n",
       " 'C:/Users/LeeJH/OneDrive - 코리아리서치인터내셔널/바탕 화면/onebite_supply/output_data/경상북도_add_area.csv',\n",
       " 'C:/Users/LeeJH/OneDrive - 코리아리서치인터내셔널/바탕 화면/onebite_supply/output_data/광주광역시_add_area.csv',\n",
       " 'C:/Users/LeeJH/OneDrive - 코리아리서치인터내셔널/바탕 화면/onebite_supply/output_data/대구광역시_add_area.csv',\n",
       " 'C:/Users/LeeJH/OneDrive - 코리아리서치인터내셔널/바탕 화면/onebite_supply/output_data/대전광역시_add_area.csv',\n",
       " 'C:/Users/LeeJH/OneDrive - 코리아리서치인터내셔널/바탕 화면/onebite_supply/output_data/부산광역시_add_area.csv',\n",
       " 'C:/Users/LeeJH/OneDrive - 코리아리서치인터내셔널/바탕 화면/onebite_supply/output_data/서울특별시_add_area.csv',\n",
       " 'C:/Users/LeeJH/OneDrive - 코리아리서치인터내셔널/바탕 화면/onebite_supply/output_data/세종_add_area.csv',\n",
       " 'C:/Users/LeeJH/OneDrive - 코리아리서치인터내셔널/바탕 화면/onebite_supply/output_data/울산광역시_add_area.csv',\n",
       " 'C:/Users/LeeJH/OneDrive - 코리아리서치인터내셔널/바탕 화면/onebite_supply/output_data/인천광역시_add_area.csv',\n",
       " 'C:/Users/LeeJH/OneDrive - 코리아리서치인터내셔널/바탕 화면/onebite_supply/output_data/전라남도_add_area.csv',\n",
       " 'C:/Users/LeeJH/OneDrive - 코리아리서치인터내셔널/바탕 화면/onebite_supply/output_data/전라북도_add_area.csv']"
      ]
     },
     "execution_count": 4,
     "metadata": {},
     "output_type": "execute_result"
    }
   ],
   "source": [
    "paths_list = [\n",
    "    os.path.join(file_path,f) for f in os.listdir(file_path)\n",
    "]\n",
    "paths_list"
   ]
  },
  {
   "cell_type": "code",
   "execution_count": 5,
   "metadata": {},
   "outputs": [],
   "source": [
    "df1 = pd.read_csv(paths_list[0], index_col = 0)\n",
    "df2 = pd.read_csv(paths_list[1], index_col = 0)\n",
    "\n",
    "total_df = pd.concat([df1, df2], axis = 0)"
   ]
  },
  {
   "cell_type": "code",
   "execution_count": 7,
   "metadata": {},
   "outputs": [
    {
     "name": "stdout",
     "output_type": "stream",
     "text": [
      "C:/Users/LeeJH/OneDrive - 코리아리서치인터내셔널/바탕 화면/onebite_supply/output_data/경상남도_add_area.csv\n",
      "C:/Users/LeeJH/OneDrive - 코리아리서치인터내셔널/바탕 화면/onebite_supply/output_data/경상북도_add_area.csv\n",
      "C:/Users/LeeJH/OneDrive - 코리아리서치인터내셔널/바탕 화면/onebite_supply/output_data/광주광역시_add_area.csv\n",
      "C:/Users/LeeJH/OneDrive - 코리아리서치인터내셔널/바탕 화면/onebite_supply/output_data/대구광역시_add_area.csv\n",
      "C:/Users/LeeJH/OneDrive - 코리아리서치인터내셔널/바탕 화면/onebite_supply/output_data/대전광역시_add_area.csv\n",
      "C:/Users/LeeJH/OneDrive - 코리아리서치인터내셔널/바탕 화면/onebite_supply/output_data/부산광역시_add_area.csv\n",
      "C:/Users/LeeJH/OneDrive - 코리아리서치인터내셔널/바탕 화면/onebite_supply/output_data/서울특별시_add_area.csv\n",
      "C:/Users/LeeJH/OneDrive - 코리아리서치인터내셔널/바탕 화면/onebite_supply/output_data/세종_add_area.csv\n",
      "C:/Users/LeeJH/OneDrive - 코리아리서치인터내셔널/바탕 화면/onebite_supply/output_data/울산광역시_add_area.csv\n",
      "C:/Users/LeeJH/OneDrive - 코리아리서치인터내셔널/바탕 화면/onebite_supply/output_data/인천광역시_add_area.csv\n",
      "C:/Users/LeeJH/OneDrive - 코리아리서치인터내셔널/바탕 화면/onebite_supply/output_data/전라남도_add_area.csv\n",
      "C:/Users/LeeJH/OneDrive - 코리아리서치인터내셔널/바탕 화면/onebite_supply/output_data/전라북도_add_area.csv\n"
     ]
    }
   ],
   "source": [
    "for i in range(2, len(paths_list)) :\n",
    "    print(paths_list[i])\n",
    "\n",
    "    temp_df = pd.read_csv(paths_list[i], index_col = 0)\n",
    "\n",
    "    total_df = pd.concat([total_df, temp_df], axis = 0)"
   ]
  },
  {
   "cell_type": "code",
   "execution_count": 15,
   "metadata": {},
   "outputs": [],
   "source": [
    "total_df = total_df.dropna(axis = 0)\n",
    "\n",
    "# 전용/공급면적 m2 단위를 평 단위로 변경 및 변수 추가\n",
    "total_df['exclusiveArea2'] = total_df['exclusiveArea'].apply(lambda x: round(x/3.3))\n",
    "total_df['supplyArea2'] = total_df['supplyArea'].apply(lambda x: round(x/3.3))\n",
    "total_df.to_csv('건축물대장_전처리.csv', encoding = 'cp949')"
   ]
  }
 ],
 "metadata": {
  "kernelspec": {
   "display_name": "Python 3",
   "language": "python",
   "name": "python3"
  },
  "language_info": {
   "codemirror_mode": {
    "name": "ipython",
    "version": 3
   },
   "file_extension": ".py",
   "mimetype": "text/x-python",
   "name": "python",
   "nbconvert_exporter": "python",
   "pygments_lexer": "ipython3",
   "version": "3.11.1"
  },
  "orig_nbformat": 4
 },
 "nbformat": 4,
 "nbformat_minor": 2
}
